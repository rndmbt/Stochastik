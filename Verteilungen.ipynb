{
 "cells": [
  {
   "cell_type": "code",
   "execution_count": 1,
   "metadata": {},
   "outputs": [],
   "source": [
    "import numpy as np"
   ]
  },
  {
   "cell_type": "code",
   "execution_count": 10,
   "metadata": {},
   "outputs": [],
   "source": [
    "# Poisson\n",
    "def Poi(k,l): # k = number in N, l = lambda\n",
    "    return (np.power(l,k) / np.math.factorial(k)) * np.exp(-l)"
   ]
  },
  {
   "cell_type": "code",
   "execution_count": 13,
   "metadata": {},
   "outputs": [
    {
     "name": "stdout",
     "output_type": "stream",
     "text": [
      "0.5768099188731565\n"
     ]
    }
   ],
   "source": [
    "# Beispiel: lambda = 3 und wir suchen die Wahrscheinlichkeit, dass mindestens 4 Erdbeben pro Jahr in jenem Land aus dem lambda kommt auftreten\n",
    "# P(X >= 4) = 1 - P(X < 4)\n",
    "def PoiRange(l,start,end): # l = lambda, range = [start,end]\n",
    "    result = 0;\n",
    "    for i in range(start,end):\n",
    "        result += Poi(i,l)\n",
    "    return result\n",
    "\n",
    "print(1 - PoiRange(3,0,3))"
   ]
  },
  {
   "cell_type": "code",
   "execution_count": null,
   "metadata": {},
   "outputs": [],
   "source": []
  }
 ],
 "metadata": {
  "kernelspec": {
   "display_name": "Python 3",
   "language": "python",
   "name": "python3"
  },
  "language_info": {
   "codemirror_mode": {
    "name": "ipython",
    "version": 3
   },
   "file_extension": ".py",
   "mimetype": "text/x-python",
   "name": "python",
   "nbconvert_exporter": "python",
   "pygments_lexer": "ipython3",
   "version": "3.7.4"
  }
 },
 "nbformat": 4,
 "nbformat_minor": 4
}
